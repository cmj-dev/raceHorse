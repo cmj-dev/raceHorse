{
 "cells": [
  {
   "cell_type": "code",
   "execution_count": 1,
   "metadata": {},
   "outputs": [],
   "source": [
    "import pandas as pd\n",
    "import numpy as np\n",
    "import numpy.linalg as npl\n",
    "import matplotlib.pyplot as plt"
   ]
  },
  {
   "cell_type": "code",
   "execution_count": 5,
   "metadata": {},
   "outputs": [],
   "source": [
    "raceResultDf = pd.read_csv('../data/raceResultTrainTest.csv', index_col=0)"
   ]
  },
  {
   "cell_type": "code",
   "execution_count": 7,
   "metadata": {},
   "outputs": [
    {
     "data": {
      "text/plain": [
       "Index(['age', 'chulNo', 'diffUnit', 'hrNo', 'ord', 'rating', 'rcDist',\n",
       "       'rcTime', 'sex', 'wgBudam', 'wgHr', 'winOdds', 'plcOdds', 'rcIdx',\n",
       "       'hrRcCnt', 'ord1Rate', 'ord2Rate', 'ord3Rate', 'trackState',\n",
       "       'deltaWgHr', 'sexNeutral', 'sexMale', 'sexFemale', 'chulNo_1',\n",
       "       'chulNo_2', 'chulNo_3', 'chulNo_4', 'chulNo_5', 'chulNo_6', 'chulNo_7',\n",
       "       'chulNo_8', 'chulNo_9', 'chulNo_10', 'chulNo_11', 'chulNo_12',\n",
       "       'chulNo_13'],\n",
       "      dtype='object')"
      ]
     },
     "execution_count": 7,
     "metadata": {},
     "output_type": "execute_result"
    }
   ],
   "source": [
    "raceResultDf.columns"
   ]
  },
  {
   "cell_type": "code",
   "execution_count": 16,
   "metadata": {},
   "outputs": [],
   "source": [
    "def groupFunc(x):\n",
    "    d = {}\n",
    "    d['ageMean'] = x['age'].mean()\n",
    "    d['ratingMean'] = x['rating'].mean()\n",
    "    return pd.Series(d, index=['ageMean', 'ratingMean'])"
   ]
  },
  {
   "cell_type": "code",
   "execution_count": 19,
   "metadata": {},
   "outputs": [],
   "source": [
    "rcIdxMean = (raceResultDf.groupby(['rcIdx']).apply(groupFunc))"
   ]
  },
  {
   "cell_type": "code",
   "execution_count": 32,
   "metadata": {},
   "outputs": [],
   "source": [
    "def demeanAge(x):\n",
    "    return x['age'] - rcIdxMean.loc[x['rcIdx'],'ageMean']\n",
    "\n",
    "def demeanRating(x):\n",
    "    return x['rating'] - rcIdxMean.loc[x['rcIdx'],'ratingMean']"
   ]
  },
  {
   "cell_type": "code",
   "execution_count": 34,
   "metadata": {},
   "outputs": [],
   "source": [
    "raceResultDf['demeanAge'] = raceResultDf.apply(demeanAge, axis=1)\n",
    "raceResultDf['demeanRating'] = raceResultDf.apply(demeanRating, axis=1)"
   ]
  },
  {
   "cell_type": "code",
   "execution_count": 80,
   "metadata": {},
   "outputs": [
    {
     "data": {
      "text/plain": [
       "16.85126582278481"
      ]
     },
     "execution_count": 80,
     "metadata": {},
     "output_type": "execute_result"
    }
   ],
   "source": [
    "testDf = raceResultDf[raceResultDf['rcIdx'] > 202305000]\n",
    "trainDf = raceResultDf[raceResultDf['rcIdx'] <= 202305000]\n",
    "len(testDf) / (len(testDf) + len(trainDf)) * 100"
   ]
  },
  {
   "cell_type": "code",
   "execution_count": 81,
   "metadata": {},
   "outputs": [],
   "source": [
    "trainDf = trainDf[['demeanAge', 'demeanRating', 'sexNeutral', 'sexMale', 'sexFemale', 'wgBudam', 'wgHr', 'deltaWgHr', 'hrRcCnt', 'trackState', 'ord']]\n",
    "testDf = testDf[['demeanAge', 'demeanRating', 'sexNeutral', 'sexMale', 'sexFemale', 'wgBudam', 'wgHr', 'deltaWgHr', 'hrRcCnt', 'trackState', 'ord']]"
   ]
  },
  {
   "cell_type": "code",
   "execution_count": 82,
   "metadata": {},
   "outputs": [],
   "source": [
    "trainDf['label'] = trainDf.apply(lambda x: 1 if x['ord'] < 3 else 0, axis=1)\n",
    "testDf['label'] = testDf.apply(lambda x: 1 if x['ord'] < 3 else 0, axis=1)"
   ]
  },
  {
   "cell_type": "code",
   "execution_count": 83,
   "metadata": {},
   "outputs": [
    {
     "data": {
      "text/html": [
       "<div>\n",
       "<style scoped>\n",
       "    .dataframe tbody tr th:only-of-type {\n",
       "        vertical-align: middle;\n",
       "    }\n",
       "\n",
       "    .dataframe tbody tr th {\n",
       "        vertical-align: top;\n",
       "    }\n",
       "\n",
       "    .dataframe thead th {\n",
       "        text-align: right;\n",
       "    }\n",
       "</style>\n",
       "<table border=\"1\" class=\"dataframe\">\n",
       "  <thead>\n",
       "    <tr style=\"text-align: right;\">\n",
       "      <th></th>\n",
       "      <th>demeanAge</th>\n",
       "      <th>demeanRating</th>\n",
       "      <th>sexNeutral</th>\n",
       "      <th>sexMale</th>\n",
       "      <th>sexFemale</th>\n",
       "      <th>wgBudam</th>\n",
       "      <th>wgHr</th>\n",
       "      <th>deltaWgHr</th>\n",
       "      <th>hrRcCnt</th>\n",
       "      <th>trackState</th>\n",
       "      <th>ord</th>\n",
       "      <th>label</th>\n",
       "    </tr>\n",
       "  </thead>\n",
       "  <tbody>\n",
       "    <tr>\n",
       "      <th>302</th>\n",
       "      <td>0.0</td>\n",
       "      <td>0.0</td>\n",
       "      <td>0</td>\n",
       "      <td>0</td>\n",
       "      <td>1</td>\n",
       "      <td>54.0</td>\n",
       "      <td>469</td>\n",
       "      <td>-7</td>\n",
       "      <td>3</td>\n",
       "      <td>13</td>\n",
       "      <td>1</td>\n",
       "      <td>1</td>\n",
       "    </tr>\n",
       "    <tr>\n",
       "      <th>303</th>\n",
       "      <td>0.0</td>\n",
       "      <td>0.0</td>\n",
       "      <td>0</td>\n",
       "      <td>1</td>\n",
       "      <td>0</td>\n",
       "      <td>56.0</td>\n",
       "      <td>470</td>\n",
       "      <td>-7</td>\n",
       "      <td>5</td>\n",
       "      <td>13</td>\n",
       "      <td>2</td>\n",
       "      <td>1</td>\n",
       "    </tr>\n",
       "    <tr>\n",
       "      <th>304</th>\n",
       "      <td>0.0</td>\n",
       "      <td>0.0</td>\n",
       "      <td>0</td>\n",
       "      <td>0</td>\n",
       "      <td>1</td>\n",
       "      <td>54.0</td>\n",
       "      <td>466</td>\n",
       "      <td>4</td>\n",
       "      <td>2</td>\n",
       "      <td>13</td>\n",
       "      <td>3</td>\n",
       "      <td>0</td>\n",
       "    </tr>\n",
       "    <tr>\n",
       "      <th>305</th>\n",
       "      <td>0.0</td>\n",
       "      <td>0.0</td>\n",
       "      <td>1</td>\n",
       "      <td>0</td>\n",
       "      <td>0</td>\n",
       "      <td>56.0</td>\n",
       "      <td>467</td>\n",
       "      <td>-2</td>\n",
       "      <td>4</td>\n",
       "      <td>13</td>\n",
       "      <td>4</td>\n",
       "      <td>0</td>\n",
       "    </tr>\n",
       "    <tr>\n",
       "      <th>306</th>\n",
       "      <td>0.0</td>\n",
       "      <td>0.0</td>\n",
       "      <td>1</td>\n",
       "      <td>0</td>\n",
       "      <td>0</td>\n",
       "      <td>56.0</td>\n",
       "      <td>511</td>\n",
       "      <td>-21</td>\n",
       "      <td>4</td>\n",
       "      <td>13</td>\n",
       "      <td>5</td>\n",
       "      <td>0</td>\n",
       "    </tr>\n",
       "    <tr>\n",
       "      <th>...</th>\n",
       "      <td>...</td>\n",
       "      <td>...</td>\n",
       "      <td>...</td>\n",
       "      <td>...</td>\n",
       "      <td>...</td>\n",
       "      <td>...</td>\n",
       "      <td>...</td>\n",
       "      <td>...</td>\n",
       "      <td>...</td>\n",
       "      <td>...</td>\n",
       "      <td>...</td>\n",
       "      <td>...</td>\n",
       "    </tr>\n",
       "    <tr>\n",
       "      <th>1366</th>\n",
       "      <td>-0.5</td>\n",
       "      <td>8.7</td>\n",
       "      <td>1</td>\n",
       "      <td>0</td>\n",
       "      <td>0</td>\n",
       "      <td>58.0</td>\n",
       "      <td>481</td>\n",
       "      <td>-7</td>\n",
       "      <td>11</td>\n",
       "      <td>3</td>\n",
       "      <td>6</td>\n",
       "      <td>0</td>\n",
       "    </tr>\n",
       "    <tr>\n",
       "      <th>1367</th>\n",
       "      <td>0.5</td>\n",
       "      <td>5.7</td>\n",
       "      <td>1</td>\n",
       "      <td>0</td>\n",
       "      <td>0</td>\n",
       "      <td>54.5</td>\n",
       "      <td>447</td>\n",
       "      <td>-5</td>\n",
       "      <td>11</td>\n",
       "      <td>3</td>\n",
       "      <td>7</td>\n",
       "      <td>0</td>\n",
       "    </tr>\n",
       "    <tr>\n",
       "      <th>1368</th>\n",
       "      <td>0.5</td>\n",
       "      <td>-3.3</td>\n",
       "      <td>1</td>\n",
       "      <td>0</td>\n",
       "      <td>0</td>\n",
       "      <td>52.0</td>\n",
       "      <td>472</td>\n",
       "      <td>1</td>\n",
       "      <td>6</td>\n",
       "      <td>3</td>\n",
       "      <td>8</td>\n",
       "      <td>0</td>\n",
       "    </tr>\n",
       "    <tr>\n",
       "      <th>1369</th>\n",
       "      <td>-1.5</td>\n",
       "      <td>-4.3</td>\n",
       "      <td>1</td>\n",
       "      <td>0</td>\n",
       "      <td>0</td>\n",
       "      <td>51.5</td>\n",
       "      <td>479</td>\n",
       "      <td>-1</td>\n",
       "      <td>9</td>\n",
       "      <td>3</td>\n",
       "      <td>9</td>\n",
       "      <td>0</td>\n",
       "    </tr>\n",
       "    <tr>\n",
       "      <th>1370</th>\n",
       "      <td>-1.5</td>\n",
       "      <td>-3.3</td>\n",
       "      <td>0</td>\n",
       "      <td>1</td>\n",
       "      <td>0</td>\n",
       "      <td>52.0</td>\n",
       "      <td>513</td>\n",
       "      <td>-10</td>\n",
       "      <td>4</td>\n",
       "      <td>3</td>\n",
       "      <td>10</td>\n",
       "      <td>0</td>\n",
       "    </tr>\n",
       "  </tbody>\n",
       "</table>\n",
       "<p>1051 rows × 12 columns</p>\n",
       "</div>"
      ],
      "text/plain": [
       "      demeanAge  demeanRating  sexNeutral  sexMale  sexFemale  wgBudam  wgHr  \\\n",
       "302         0.0           0.0           0        0          1     54.0   469   \n",
       "303         0.0           0.0           0        1          0     56.0   470   \n",
       "304         0.0           0.0           0        0          1     54.0   466   \n",
       "305         0.0           0.0           1        0          0     56.0   467   \n",
       "306         0.0           0.0           1        0          0     56.0   511   \n",
       "...         ...           ...         ...      ...        ...      ...   ...   \n",
       "1366       -0.5           8.7           1        0          0     58.0   481   \n",
       "1367        0.5           5.7           1        0          0     54.5   447   \n",
       "1368        0.5          -3.3           1        0          0     52.0   472   \n",
       "1369       -1.5          -4.3           1        0          0     51.5   479   \n",
       "1370       -1.5          -3.3           0        1          0     52.0   513   \n",
       "\n",
       "      deltaWgHr  hrRcCnt  trackState  ord  label  \n",
       "302          -7        3          13    1      1  \n",
       "303          -7        5          13    2      1  \n",
       "304           4        2          13    3      0  \n",
       "305          -2        4          13    4      0  \n",
       "306         -21        4          13    5      0  \n",
       "...         ...      ...         ...  ...    ...  \n",
       "1366         -7       11           3    6      0  \n",
       "1367         -5       11           3    7      0  \n",
       "1368          1        6           3    8      0  \n",
       "1369         -1        9           3    9      0  \n",
       "1370        -10        4           3   10      0  \n",
       "\n",
       "[1051 rows x 12 columns]"
      ]
     },
     "execution_count": 83,
     "metadata": {},
     "output_type": "execute_result"
    }
   ],
   "source": [
    "trainDf"
   ]
  },
  {
   "cell_type": "code",
   "execution_count": 122,
   "metadata": {},
   "outputs": [],
   "source": [
    "train_input, train_target = trainDf.drop(['label', 'ord'], axis=1), trainDf['label']\n",
    "test_input, test_target = testDf.drop(['label', 'ord'], axis=1), testDf['label']"
   ]
  },
  {
   "cell_type": "code",
   "execution_count": 116,
   "metadata": {},
   "outputs": [],
   "source": [
    "from sklearn.ensemble import RandomForestClassifier\n",
    "\n",
    "rf = RandomForestClassifier(n_jobs=-1, random_state=42, oob_score=True, max_depth=5)"
   ]
  },
  {
   "cell_type": "code",
   "execution_count": 117,
   "metadata": {},
   "outputs": [],
   "source": [
    "from sklearn.model_selection import cross_validate\n",
    "scores = cross_validate(rf,train_input, train_target, \n",
    "                        return_train_score=True,n_jobs=-1)"
   ]
  },
  {
   "cell_type": "code",
   "execution_count": 118,
   "metadata": {},
   "outputs": [
    {
     "data": {
      "text/plain": [
       "{'fit_time': array([0.2193799 , 0.19902706, 0.19842625, 0.20664692, 0.19776678]),\n",
       " 'score_time': array([0.01922584, 0.0194869 , 0.02288055, 0.01851892, 0.0190742 ]),\n",
       " 'test_score': array([0.8056872, 0.8      , 0.8      , 0.8      , 0.8047619]),\n",
       " 'train_score': array([0.80952381, 0.8216409 , 0.81331748, 0.8216409 , 0.80499405])}"
      ]
     },
     "execution_count": 118,
     "metadata": {},
     "output_type": "execute_result"
    }
   ],
   "source": [
    "scores"
   ]
  },
  {
   "cell_type": "code",
   "execution_count": 119,
   "metadata": {},
   "outputs": [],
   "source": [
    "fit = rf.fit(train_input,train_target)"
   ]
  },
  {
   "cell_type": "code",
   "execution_count": 120,
   "metadata": {},
   "outputs": [
    {
     "name": "stdout",
     "output_type": "stream",
     "text": [
      "param importance\n"
     ]
    },
    {
     "data": {
      "text/plain": [
       "demeanAge       0.275912\n",
       "demeanRating    0.199498\n",
       "sexNeutral      0.013313\n",
       "sexMale         0.014443\n",
       "sexFemale       0.008155\n",
       "wgBudam         0.105327\n",
       "wgHr            0.137935\n",
       "deltaWgHr       0.104531\n",
       "hrRcCnt         0.096109\n",
       "trackState      0.044775\n",
       "dtype: float64"
      ]
     },
     "execution_count": 120,
     "metadata": {},
     "output_type": "execute_result"
    }
   ],
   "source": [
    "print('param importance')\n",
    "pd.Series(data= fit.feature_importances_, index= train_input.columns)"
   ]
  },
  {
   "cell_type": "code",
   "execution_count": 121,
   "metadata": {},
   "outputs": [
    {
     "data": {
      "text/plain": [
       "0.796384395813511"
      ]
     },
     "execution_count": 121,
     "metadata": {},
     "output_type": "execute_result"
    }
   ],
   "source": [
    "fit.oob_score_"
   ]
  },
  {
   "cell_type": "code",
   "execution_count": 125,
   "metadata": {},
   "outputs": [
    {
     "data": {
      "text/plain": [
       "0.8028169014084507"
      ]
     },
     "execution_count": 125,
     "metadata": {},
     "output_type": "execute_result"
    }
   ],
   "source": [
    "fit.score(test_input,test_target)"
   ]
  },
  {
   "cell_type": "code",
   "execution_count": 131,
   "metadata": {},
   "outputs": [
    {
     "data": {
      "text/html": [
       "<div>\n",
       "<style scoped>\n",
       "    .dataframe tbody tr th:only-of-type {\n",
       "        vertical-align: middle;\n",
       "    }\n",
       "\n",
       "    .dataframe tbody tr th {\n",
       "        vertical-align: top;\n",
       "    }\n",
       "\n",
       "    .dataframe thead th {\n",
       "        text-align: right;\n",
       "    }\n",
       "</style>\n",
       "<table border=\"1\" class=\"dataframe\">\n",
       "  <thead>\n",
       "    <tr style=\"text-align: right;\">\n",
       "      <th></th>\n",
       "      <th>demeanAge</th>\n",
       "      <th>demeanRating</th>\n",
       "      <th>sexNeutral</th>\n",
       "      <th>sexMale</th>\n",
       "      <th>sexFemale</th>\n",
       "      <th>wgBudam</th>\n",
       "      <th>wgHr</th>\n",
       "      <th>deltaWgHr</th>\n",
       "      <th>hrRcCnt</th>\n",
       "      <th>trackState</th>\n",
       "      <th>ord</th>\n",
       "      <th>label</th>\n",
       "    </tr>\n",
       "  </thead>\n",
       "  <tbody>\n",
       "    <tr>\n",
       "      <th>0</th>\n",
       "      <td>0.000</td>\n",
       "      <td>0.0</td>\n",
       "      <td>0</td>\n",
       "      <td>0</td>\n",
       "      <td>1</td>\n",
       "      <td>54.0</td>\n",
       "      <td>437</td>\n",
       "      <td>9</td>\n",
       "      <td>0</td>\n",
       "      <td>6</td>\n",
       "      <td>1</td>\n",
       "      <td>1</td>\n",
       "    </tr>\n",
       "    <tr>\n",
       "      <th>1</th>\n",
       "      <td>0.000</td>\n",
       "      <td>0.0</td>\n",
       "      <td>0</td>\n",
       "      <td>0</td>\n",
       "      <td>1</td>\n",
       "      <td>54.0</td>\n",
       "      <td>455</td>\n",
       "      <td>1</td>\n",
       "      <td>1</td>\n",
       "      <td>6</td>\n",
       "      <td>2</td>\n",
       "      <td>1</td>\n",
       "    </tr>\n",
       "    <tr>\n",
       "      <th>2</th>\n",
       "      <td>0.000</td>\n",
       "      <td>0.0</td>\n",
       "      <td>0</td>\n",
       "      <td>0</td>\n",
       "      <td>1</td>\n",
       "      <td>54.0</td>\n",
       "      <td>456</td>\n",
       "      <td>12</td>\n",
       "      <td>0</td>\n",
       "      <td>6</td>\n",
       "      <td>3</td>\n",
       "      <td>0</td>\n",
       "    </tr>\n",
       "    <tr>\n",
       "      <th>3</th>\n",
       "      <td>0.000</td>\n",
       "      <td>0.0</td>\n",
       "      <td>0</td>\n",
       "      <td>1</td>\n",
       "      <td>0</td>\n",
       "      <td>56.0</td>\n",
       "      <td>482</td>\n",
       "      <td>-8</td>\n",
       "      <td>1</td>\n",
       "      <td>6</td>\n",
       "      <td>4</td>\n",
       "      <td>0</td>\n",
       "    </tr>\n",
       "    <tr>\n",
       "      <th>4</th>\n",
       "      <td>0.000</td>\n",
       "      <td>0.0</td>\n",
       "      <td>0</td>\n",
       "      <td>0</td>\n",
       "      <td>1</td>\n",
       "      <td>54.0</td>\n",
       "      <td>465</td>\n",
       "      <td>-5</td>\n",
       "      <td>0</td>\n",
       "      <td>6</td>\n",
       "      <td>5</td>\n",
       "      <td>0</td>\n",
       "    </tr>\n",
       "    <tr>\n",
       "      <th>...</th>\n",
       "      <td>...</td>\n",
       "      <td>...</td>\n",
       "      <td>...</td>\n",
       "      <td>...</td>\n",
       "      <td>...</td>\n",
       "      <td>...</td>\n",
       "      <td>...</td>\n",
       "      <td>...</td>\n",
       "      <td>...</td>\n",
       "      <td>...</td>\n",
       "      <td>...</td>\n",
       "      <td>...</td>\n",
       "    </tr>\n",
       "    <tr>\n",
       "      <th>211</th>\n",
       "      <td>0.375</td>\n",
       "      <td>0.0</td>\n",
       "      <td>0</td>\n",
       "      <td>0</td>\n",
       "      <td>1</td>\n",
       "      <td>54.0</td>\n",
       "      <td>495</td>\n",
       "      <td>8</td>\n",
       "      <td>8</td>\n",
       "      <td>20</td>\n",
       "      <td>4</td>\n",
       "      <td>0</td>\n",
       "    </tr>\n",
       "    <tr>\n",
       "      <th>212</th>\n",
       "      <td>0.375</td>\n",
       "      <td>0.0</td>\n",
       "      <td>0</td>\n",
       "      <td>0</td>\n",
       "      <td>1</td>\n",
       "      <td>54.0</td>\n",
       "      <td>503</td>\n",
       "      <td>7</td>\n",
       "      <td>4</td>\n",
       "      <td>20</td>\n",
       "      <td>5</td>\n",
       "      <td>0</td>\n",
       "    </tr>\n",
       "    <tr>\n",
       "      <th>213</th>\n",
       "      <td>-0.625</td>\n",
       "      <td>0.0</td>\n",
       "      <td>0</td>\n",
       "      <td>0</td>\n",
       "      <td>1</td>\n",
       "      <td>54.0</td>\n",
       "      <td>464</td>\n",
       "      <td>4</td>\n",
       "      <td>7</td>\n",
       "      <td>20</td>\n",
       "      <td>6</td>\n",
       "      <td>0</td>\n",
       "    </tr>\n",
       "    <tr>\n",
       "      <th>214</th>\n",
       "      <td>0.375</td>\n",
       "      <td>0.0</td>\n",
       "      <td>0</td>\n",
       "      <td>0</td>\n",
       "      <td>1</td>\n",
       "      <td>54.0</td>\n",
       "      <td>437</td>\n",
       "      <td>-12</td>\n",
       "      <td>4</td>\n",
       "      <td>20</td>\n",
       "      <td>7</td>\n",
       "      <td>0</td>\n",
       "    </tr>\n",
       "    <tr>\n",
       "      <th>215</th>\n",
       "      <td>0.375</td>\n",
       "      <td>0.0</td>\n",
       "      <td>0</td>\n",
       "      <td>1</td>\n",
       "      <td>0</td>\n",
       "      <td>56.0</td>\n",
       "      <td>441</td>\n",
       "      <td>-4</td>\n",
       "      <td>5</td>\n",
       "      <td>20</td>\n",
       "      <td>8</td>\n",
       "      <td>0</td>\n",
       "    </tr>\n",
       "  </tbody>\n",
       "</table>\n",
       "<p>213 rows × 12 columns</p>\n",
       "</div>"
      ],
      "text/plain": [
       "     demeanAge  demeanRating  sexNeutral  sexMale  sexFemale  wgBudam  wgHr  \\\n",
       "0        0.000           0.0           0        0          1     54.0   437   \n",
       "1        0.000           0.0           0        0          1     54.0   455   \n",
       "2        0.000           0.0           0        0          1     54.0   456   \n",
       "3        0.000           0.0           0        1          0     56.0   482   \n",
       "4        0.000           0.0           0        0          1     54.0   465   \n",
       "..         ...           ...         ...      ...        ...      ...   ...   \n",
       "211      0.375           0.0           0        0          1     54.0   495   \n",
       "212      0.375           0.0           0        0          1     54.0   503   \n",
       "213     -0.625           0.0           0        0          1     54.0   464   \n",
       "214      0.375           0.0           0        0          1     54.0   437   \n",
       "215      0.375           0.0           0        1          0     56.0   441   \n",
       "\n",
       "     deltaWgHr  hrRcCnt  trackState  ord  label  \n",
       "0            9        0           6    1      1  \n",
       "1            1        1           6    2      1  \n",
       "2           12        0           6    3      0  \n",
       "3           -8        1           6    4      0  \n",
       "4           -5        0           6    5      0  \n",
       "..         ...      ...         ...  ...    ...  \n",
       "211          8        8          20    4      0  \n",
       "212          7        4          20    5      0  \n",
       "213          4        7          20    6      0  \n",
       "214        -12        4          20    7      0  \n",
       "215         -4        5          20    8      0  \n",
       "\n",
       "[213 rows x 12 columns]"
      ]
     },
     "execution_count": 131,
     "metadata": {},
     "output_type": "execute_result"
    }
   ],
   "source": [
    "testDf"
   ]
  },
  {
   "cell_type": "code",
   "execution_count": 132,
   "metadata": {},
   "outputs": [],
   "source": [
    "testDf['probPlc'] = fit.predict_proba(test_input)[:,1]"
   ]
  },
  {
   "cell_type": "code",
   "execution_count": 134,
   "metadata": {},
   "outputs": [],
   "source": [
    "testDf.to_csv('../data/prediction.csv')"
   ]
  }
 ],
 "metadata": {
  "kernelspec": {
   "display_name": "ML",
   "language": "python",
   "name": "python3"
  },
  "language_info": {
   "codemirror_mode": {
    "name": "ipython",
    "version": 3
   },
   "file_extension": ".py",
   "mimetype": "text/x-python",
   "name": "python",
   "nbconvert_exporter": "python",
   "pygments_lexer": "ipython3",
   "version": "3.9.13"
  },
  "orig_nbformat": 4
 },
 "nbformat": 4,
 "nbformat_minor": 2
}
